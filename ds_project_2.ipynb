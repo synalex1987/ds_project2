{
 "cells": [
  {
   "metadata": {},
   "cell_type": "markdown",
   "source": "<center> <img src = https://raw.githubusercontent.com/AndreyRysistov/DatasetsForPandas/main/hh%20label.jpg alt=\"drawing\" style=\"width:400px;\">",
   "id": "ec09012827d5750f"
  },
  {
   "cell_type": "markdown",
   "id": "829cb75b-f14e-4ba8-9195-7ba929a7d656",
   "metadata": {
    "tags": [],
    "id": "829cb75b-f14e-4ba8-9195-7ba929a7d656"
   },
   "source": [
    "# <center> Проект: Анализ вакансий из HeadHunter\n",
    "   "
   ]
  },
  {
   "cell_type": "code",
   "id": "dccfde33-2452-43fb-a8a5-5c6ebc02a71d",
   "metadata": {
    "id": "dccfde33-2452-43fb-a8a5-5c6ebc02a71d",
    "ExecuteTime": {
     "end_time": "2025-02-09T20:39:38.495318Z",
     "start_time": "2025-02-09T20:39:37.960556Z"
    }
   },
   "source": [
    "import pandas as pd\n",
    "import psycopg2\n",
    "import os\n",
    "from dotenv import load_dotenv\n",
    "from bs4 import BeautifulSoup\n",
    "import requests\n",
    "import warnings\n",
    "\n",
    "# Убрать предупреждения по (не)использованию SQLAlchemy\n",
    "warnings.filterwarnings('ignore', category=UserWarning)\n",
    "# загрузка переменных для доступа к БД\n",
    "load_dotenv()"
   ],
   "outputs": [
    {
     "data": {
      "text/plain": [
       "True"
      ]
     },
     "execution_count": 1,
     "metadata": {},
     "output_type": "execute_result"
    }
   ],
   "execution_count": 1
  },
  {
   "cell_type": "code",
   "source": [
    "connection = psycopg2.connect(\n",
    "    dbname=os.getenv(\"DBNAME\"),\n",
    "    user=os.getenv(\"DBUSER\"),\n",
    "    host=os.getenv(\"HOST\"),\n",
    "    password=os.getenv(\"PASSWORD\"),\n",
    "    port=os.getenv(\"PORT\")\n",
    ")"
   ],
   "metadata": {
    "id": "G4X_q8KBf7SF",
    "ExecuteTime": {
     "end_time": "2025-02-09T20:39:38.656844Z",
     "start_time": "2025-02-09T20:39:38.561123Z"
    }
   },
   "id": "G4X_q8KBf7SF",
   "outputs": [],
   "execution_count": 2
  },
  {
   "cell_type": "markdown",
   "id": "0dc6476b-7a00-44f1-ac93-6e3baed33a29",
   "metadata": {
    "id": "0dc6476b-7a00-44f1-ac93-6e3baed33a29"
   },
   "source": [
    "# Юнит 3. Предварительный анализ данных"
   ]
  },
  {
   "cell_type": "markdown",
   "id": "889782b6-8d1c-410e-8920-e57f27917c64",
   "metadata": {
    "id": "889782b6-8d1c-410e-8920-e57f27917c64"
   },
   "source": [
    "1. Напишите запрос, который посчитает количество вакансий в нашей базе (вакансии находятся в таблице vacancies). "
   ]
  },
  {
   "cell_type": "code",
   "id": "bc39e68e-ed02-4ee2-9235-7258a2f867a8",
   "metadata": {
    "id": "bc39e68e-ed02-4ee2-9235-7258a2f867a8",
    "ExecuteTime": {
     "end_time": "2025-02-09T20:39:42.710746Z",
     "start_time": "2025-02-09T20:39:42.707523Z"
    }
   },
   "source": [
    "query = f'''\n",
    "SELECT COUNT(id) count\n",
    "FROM vacancies\n",
    "'''"
   ],
   "outputs": [],
   "execution_count": 3
  },
  {
   "cell_type": "code",
   "source": [
    "result = pd.read_sql_query(query, connection)\n",
    "print(f\"Количество вакансий в базе: {result[\"count\"].iloc[0]}\")"
   ],
   "metadata": {
    "id": "7mAwtsk4hEHY",
    "ExecuteTime": {
     "end_time": "2025-02-09T20:39:44.022187Z",
     "start_time": "2025-02-09T20:39:43.963523Z"
    }
   },
   "id": "7mAwtsk4hEHY",
   "outputs": [
    {
     "name": "stdout",
     "output_type": "stream",
     "text": [
      "Количество вакансий в базе: 49197\n"
     ]
    }
   ],
   "execution_count": 4
  },
  {
   "cell_type": "markdown",
   "id": "b583485d-1f9e-494e-ada4-80ffff7c53d6",
   "metadata": {
    "id": "b583485d-1f9e-494e-ada4-80ffff7c53d6"
   },
   "source": [
    "2. Напишите запрос, который посчитает количество работодателей (таблица employers). "
   ]
  },
  {
   "cell_type": "code",
   "id": "5408c52c-3407-4a63-b25b-1aafa2322d28",
   "metadata": {
    "id": "5408c52c-3407-4a63-b25b-1aafa2322d28",
    "ExecuteTime": {
     "end_time": "2025-02-09T20:39:45.856268Z",
     "start_time": "2025-02-09T20:39:45.852422Z"
    }
   },
   "source": [
    "query = f'''\n",
    "SELECT COUNT(id) count\n",
    "FROM employers\n",
    "'''"
   ],
   "outputs": [],
   "execution_count": 5
  },
  {
   "cell_type": "code",
   "source": [
    "result = pd.read_sql_query(query, connection)\n",
    "print(f\"Количество работодателей: {result[\"count\"].iloc[0]}\")"
   ],
   "metadata": {
    "id": "jVL4eshKhdqc",
    "ExecuteTime": {
     "end_time": "2025-02-09T20:39:47.011567Z",
     "start_time": "2025-02-09T20:39:46.981810Z"
    }
   },
   "id": "jVL4eshKhdqc",
   "outputs": [
    {
     "name": "stdout",
     "output_type": "stream",
     "text": [
      "Количество работодателей: 23501\n"
     ]
    }
   ],
   "execution_count": 6
  },
  {
   "cell_type": "markdown",
   "id": "a2bfff1f-c975-4bf6-84be-2185d79dcb76",
   "metadata": {
    "id": "a2bfff1f-c975-4bf6-84be-2185d79dcb76"
   },
   "source": [
    "3. Посчитате с помощью запроса количество регионов (таблица areas)."
   ]
  },
  {
   "cell_type": "code",
   "source": [
    "query = f'''\n",
    "SELECT COUNT(id) count\n",
    "FROM areas\n",
    "'''"
   ],
   "metadata": {
    "id": "1m8QJwBYhey6",
    "ExecuteTime": {
     "end_time": "2025-02-09T20:39:48.727531Z",
     "start_time": "2025-02-09T20:39:48.724184Z"
    }
   },
   "id": "1m8QJwBYhey6",
   "outputs": [],
   "execution_count": 7
  },
  {
   "cell_type": "code",
   "source": [
    "result = pd.read_sql_query(query, connection)\n",
    "print(f\"Количество регионов: {result[\"count\"].iloc[0]}\")"
   ],
   "metadata": {
    "id": "EZsn9tlfhe7f",
    "ExecuteTime": {
     "end_time": "2025-02-09T20:39:49.890667Z",
     "start_time": "2025-02-09T20:39:49.861165Z"
    }
   },
   "id": "EZsn9tlfhe7f",
   "outputs": [
    {
     "name": "stdout",
     "output_type": "stream",
     "text": [
      "Количество регионов: 1362\n"
     ]
    }
   ],
   "execution_count": 8
  },
  {
   "cell_type": "markdown",
   "id": "41bb59f3-53cc-4a67-a5bc-bedf573955e4",
   "metadata": {
    "id": "41bb59f3-53cc-4a67-a5bc-bedf573955e4"
   },
   "source": [
    "4. Посчитате с помощью запроса количество сфер деятельности в базе (таблица industries)."
   ]
  },
  {
   "cell_type": "code",
   "id": "d286cf4c-707b-4cd2-9190-7ab3587d04a1",
   "metadata": {
    "id": "d286cf4c-707b-4cd2-9190-7ab3587d04a1",
    "ExecuteTime": {
     "end_time": "2025-02-09T20:39:51.595137Z",
     "start_time": "2025-02-09T20:39:51.592291Z"
    }
   },
   "source": [
    "query = f'''\n",
    "SELECT COUNT(id) count\n",
    "FROM industries\n",
    "'''"
   ],
   "outputs": [],
   "execution_count": 9
  },
  {
   "cell_type": "code",
   "source": [
    "result = pd.read_sql_query(query, connection)\n",
    "print(f\"Количество сфер деятельности: {result[\"count\"].iloc[0]}\")"
   ],
   "metadata": {
    "id": "JYAaoZ4qhfzW",
    "ExecuteTime": {
     "end_time": "2025-02-09T20:39:52.649372Z",
     "start_time": "2025-02-09T20:39:52.621662Z"
    }
   },
   "id": "JYAaoZ4qhfzW",
   "outputs": [
    {
     "name": "stdout",
     "output_type": "stream",
     "text": [
      "Количество сфер деятельности: 294\n"
     ]
    }
   ],
   "execution_count": 10
  },
  {
   "cell_type": "markdown",
   "id": "9a8a2181-6914-448b-85f1-38f5f18b8a93",
   "metadata": {
    "id": "9a8a2181-6914-448b-85f1-38f5f18b8a93"
   },
   "source": [
    "***"
   ]
  },
  {
   "metadata": {},
   "cell_type": "markdown",
   "source": [
    "#### Предварительная информация о данных:\n",
    "- У нас есть около 50к вакансий, которые предлагают 23к работодателей. В среднем имеется 2 вакансии на работодателя\n",
    "- Данные по вакансиям нам предложены из 1362 регионов и 294 сфер деятельности.\n",
    "\n",
    "_Судя по всему, данные категоризированы, требуется дальнейшее изучение._\n"
   ],
   "id": "e430a143ec330db1"
  },
  {
   "cell_type": "markdown",
   "id": "8d62a9f3-f64e-4fe7-bdac-c4dffa16155e",
   "metadata": {
    "id": "8d62a9f3-f64e-4fe7-bdac-c4dffa16155e"
   },
   "source": [
    "# Юнит 4. Детальный анализ вакансий"
   ]
  },
  {
   "cell_type": "markdown",
   "id": "93053d3d-b284-481a-9cf7-012d7014c0e0",
   "metadata": {
    "id": "93053d3d-b284-481a-9cf7-012d7014c0e0"
   },
   "source": [
    "1. Напишите запрос, который позволит узнать, сколько (cnt) вакансий в каждом регионе (area).\n",
    "Отсортируйте по количеству вакансий в порядке убывания."
   ]
  },
  {
   "cell_type": "code",
   "id": "3f069da6-fdc9-4ae7-b514-fafe2675efd3",
   "metadata": {
    "id": "3f069da6-fdc9-4ae7-b514-fafe2675efd3",
    "ExecuteTime": {
     "end_time": "2025-02-09T20:39:55.757395Z",
     "start_time": "2025-02-09T20:39:55.754371Z"
    }
   },
   "source": [
    "query = f'''\n",
    "SELECT\n",
    "\ta.name \"area\",\n",
    "\tCOUNT(*) cnt\n",
    "FROM\n",
    "\tareas a\n",
    "LEFT JOIN vacancies v ON\n",
    "\tv.area_id = a.id\n",
    "GROUP BY\n",
    "\ta.name\n",
    "ORDER BY\n",
    "\tcnt DESC\n",
    "LIMIT 5\n",
    "'''"
   ],
   "outputs": [],
   "execution_count": 11
  },
  {
   "cell_type": "code",
   "source": [
    "result = pd.read_sql_query(query, connection)\n",
    "print(f\"Пятёрка лидеров по количеству вакансий: \"\n",
    "      f\"{', '.join(result[\"area\"].tolist())}\")"
   ],
   "metadata": {
    "id": "P7QL86hrjhRJ",
    "ExecuteTime": {
     "end_time": "2025-02-09T20:39:57.504748Z",
     "start_time": "2025-02-09T20:39:57.453052Z"
    }
   },
   "id": "P7QL86hrjhRJ",
   "outputs": [
    {
     "name": "stdout",
     "output_type": "stream",
     "text": [
      "Пятёрка лидеров по количеству вакансий: Москва, Санкт-Петербург, Минск, Новосибирск, Алматы\n"
     ]
    }
   ],
   "execution_count": 12
  },
  {
   "cell_type": "markdown",
   "id": "4266f0b6-1646-492a-88b4-2f6a46502135",
   "metadata": {
    "id": "4266f0b6-1646-492a-88b4-2f6a46502135"
   },
   "source": [
    "2. Напишите запрос, чтобы определить у какого количества вакансий заполнено хотя бы одно из двух полей с зарплатой."
   ]
  },
  {
   "cell_type": "code",
   "id": "0c44b350-72eb-4d65-8b54-a1fc449ba9fd",
   "metadata": {
    "id": "0c44b350-72eb-4d65-8b54-a1fc449ba9fd",
    "ExecuteTime": {
     "end_time": "2025-02-09T20:39:58.854196Z",
     "start_time": "2025-02-09T20:39:58.851449Z"
    }
   },
   "source": [
    "query = f'''\n",
    "SELECT\n",
    "\tcount(*)\n",
    "FROM\n",
    "\tvacancies\n",
    "WHERE\n",
    "\tsalary_from IS NOT NULL\n",
    "\tOR salary_to IS NOT NULL\n",
    "'''"
   ],
   "outputs": [],
   "execution_count": 13
  },
  {
   "cell_type": "code",
   "source": [
    "result = pd.read_sql_query(query, connection)\n",
    "print(f\"Количество вакансий, где заполнено хотя бы одно из двух полей с зарплатой: \"\n",
    "      f\"{result[\"count\"].iloc[0]}\")"
   ],
   "metadata": {
    "id": "rhvwaMDkoWTi",
    "ExecuteTime": {
     "end_time": "2025-02-09T20:39:59.787297Z",
     "start_time": "2025-02-09T20:39:59.751206Z"
    }
   },
   "id": "rhvwaMDkoWTi",
   "outputs": [
    {
     "name": "stdout",
     "output_type": "stream",
     "text": [
      "Количество вакансий, где заполнено хотя бы одно из двух полей с зарплатой: 24073\n"
     ]
    }
   ],
   "execution_count": 14
  },
  {
   "cell_type": "markdown",
   "id": "635c4d5d-f323-4c66-b428-50a088120aa0",
   "metadata": {
    "id": "635c4d5d-f323-4c66-b428-50a088120aa0"
   },
   "source": [
    "3. Найдите средние значения для нижней и верхней границы зарплатной вилки. Округлите значения до целого."
   ]
  },
  {
   "cell_type": "code",
   "id": "603cdbe4-0ec3-4106-8eaf-c73fcdd29165",
   "metadata": {
    "id": "603cdbe4-0ec3-4106-8eaf-c73fcdd29165",
    "ExecuteTime": {
     "end_time": "2025-02-09T20:40:01.526042Z",
     "start_time": "2025-02-09T20:40:01.522836Z"
    }
   },
   "source": [
    "query = f'''\n",
    "SELECT\n",
    "\tround(avg(salary_from)) avg_salary_from,\n",
    "\tround(avg(salary_to)) avg_salary_to\n",
    "FROM\n",
    "\tvacancies\n",
    "'''"
   ],
   "outputs": [],
   "execution_count": 15
  },
  {
   "cell_type": "code",
   "source": [
    "result = pd.read_sql_query(query, connection)\n",
    "print(f\"Среднее значения для нижней границы зарплатной вилки: {result[\"avg_salary_from\"].iloc[0]}\")\n",
    "print(f\"Среднее значения для верхней границы зарплатной вилки: {result[\"avg_salary_to\"].iloc[0]}\")"
   ],
   "metadata": {
    "id": "pswpAb66ovZZ",
    "ExecuteTime": {
     "end_time": "2025-02-09T20:40:02.530259Z",
     "start_time": "2025-02-09T20:40:02.483292Z"
    }
   },
   "id": "pswpAb66ovZZ",
   "outputs": [
    {
     "name": "stdout",
     "output_type": "stream",
     "text": [
      "Среднее значения для нижней границы зарплатной вилки: 71065.0\n",
      "Среднее значения для верхней границы зарплатной вилки: 110537.0\n"
     ]
    }
   ],
   "execution_count": 16
  },
  {
   "cell_type": "markdown",
   "id": "f3fdaec9-5fd3-4260-9cf5-1d7406b628a5",
   "metadata": {
    "id": "f3fdaec9-5fd3-4260-9cf5-1d7406b628a5"
   },
   "source": [
    "4. Напишите запрос, который выведет количество вакансий для каждого сочетания типа рабочего графика (schedule) и типа трудоустройства (employment), используемого в вакансиях. Результат отсортируйте по убыванию количества.\n"
   ]
  },
  {
   "cell_type": "code",
   "id": "1ea710ec-871b-431e-9462-c7d0fd87011b",
   "metadata": {
    "id": "1ea710ec-871b-431e-9462-c7d0fd87011b",
    "ExecuteTime": {
     "end_time": "2025-02-09T20:40:05.128838Z",
     "start_time": "2025-02-09T20:40:05.125808Z"
    }
   },
   "source": [
    "query = f'''\n",
    "SELECT\n",
    "\tschedule,\n",
    "\temployment,\n",
    "\tcount(*) \"cnt\"\n",
    "FROM\n",
    "\tvacancies\n",
    "GROUP BY\n",
    "\tschedule ,\n",
    "\temployment\n",
    "ORDER BY\n",
    "\tcnt DESC\n",
    "'''"
   ],
   "outputs": [],
   "execution_count": 17
  },
  {
   "cell_type": "code",
   "source": [
    "result = pd.read_sql_query(query, connection)\n",
    "print(f\"Самое популярное сочетание раб. графика и типа трудоустройства: \"\n",
    "      f\"{result['schedule'].iloc[1], result['employment'].iloc[1]}\")"
   ],
   "metadata": {
    "id": "lGUVqavdo4JQ",
    "ExecuteTime": {
     "end_time": "2025-02-09T20:40:06.290902Z",
     "start_time": "2025-02-09T20:40:06.245051Z"
    }
   },
   "id": "lGUVqavdo4JQ",
   "outputs": [
    {
     "name": "stdout",
     "output_type": "stream",
     "text": [
      "Самое популярное сочетание раб. графика и типа трудоустройства: ('Удаленная работа', 'Полная занятость')\n"
     ]
    }
   ],
   "execution_count": 18
  },
  {
   "cell_type": "markdown",
   "id": "0136ffee-0ead-4a6b-b608-61d1c753a438",
   "metadata": {
    "id": "0136ffee-0ead-4a6b-b608-61d1c753a438"
   },
   "source": [
    "5. Напишите запрос, выводящий значения поля Требуемый опыт работы (experience) в порядке возрастания количества вакансий, в которых указан данный вариант опыта. "
   ]
  },
  {
   "cell_type": "code",
   "id": "5b3a8e79-f7ab-4008-b767-12aea3a205ea",
   "metadata": {
    "id": "5b3a8e79-f7ab-4008-b767-12aea3a205ea",
    "ExecuteTime": {
     "end_time": "2025-02-09T20:40:07.848638Z",
     "start_time": "2025-02-09T20:40:07.845796Z"
    }
   },
   "source": [
    "query = f'''\n",
    "SELECT\n",
    "\texperience,\n",
    "\tcount(*) cnt\n",
    "FROM\n",
    "\tvacancies\n",
    "GROUP BY\n",
    "\texperience\n",
    "ORDER BY\n",
    "\tcnt\n",
    "'''"
   ],
   "outputs": [],
   "execution_count": 19
  },
  {
   "cell_type": "code",
   "source": [
    "result = pd.read_sql_query(query, connection)\n",
    "print(result)"
   ],
   "metadata": {
    "id": "3Is64Y-hpDpq",
    "ExecuteTime": {
     "end_time": "2025-02-09T20:40:11.982697Z",
     "start_time": "2025-02-09T20:40:11.941064Z"
    }
   },
   "id": "3Is64Y-hpDpq",
   "outputs": [
    {
     "name": "stdout",
     "output_type": "stream",
     "text": [
      "           experience    cnt\n",
      "0         Более 6 лет   1337\n",
      "1           Нет опыта   7197\n",
      "2       От 3 до 6 лет  14511\n",
      "3  От 1 года до 3 лет  26152\n"
     ]
    }
   ],
   "execution_count": 20
  },
  {
   "cell_type": "markdown",
   "source": [
    "***"
   ],
   "metadata": {
    "id": "oq2b7n1QpIka"
   },
   "id": "oq2b7n1QpIka"
  },
  {
   "metadata": {},
   "cell_type": "markdown",
   "source": [
    "#### Выводы по детальному анализу вакансий\n",
    "- Основные заказчики расположены в Москве и Питере. А также у нас много вакансий в городе Минск\n",
    "- Большая часть соискателей ищет удаленный формат работы на полный день\n",
    "- Почти половина вакансий не имеет данных по желаемой заработной плате\n",
    "- В базе много вакансий для начинающих специалистов"
   ],
   "id": "b4a35efde1bc331c"
  },
  {
   "cell_type": "markdown",
   "id": "7ea20ab6-04a7-40a0-adec-443a0e5a42c3",
   "metadata": {
    "id": "7ea20ab6-04a7-40a0-adec-443a0e5a42c3"
   },
   "source": [
    "# Юнит 5. Анализ работодателей"
   ]
  },
  {
   "cell_type": "markdown",
   "id": "968aed80-74ef-4ffb-b5bf-c65b84e9caea",
   "metadata": {
    "id": "968aed80-74ef-4ffb-b5bf-c65b84e9caea"
   },
   "source": [
    "1. Напишите запрос, который позволит узнать, какие работодатели находятся на первом и пятом месте по количеству вакансий."
   ]
  },
  {
   "cell_type": "code",
   "id": "f2d62796-d400-4ec1-a675-88112739a50e",
   "metadata": {
    "id": "f2d62796-d400-4ec1-a675-88112739a50e",
    "ExecuteTime": {
     "end_time": "2025-02-09T20:40:15.453500Z",
     "start_time": "2025-02-09T20:40:15.450028Z"
    }
   },
   "source": [
    "query = f'''\n",
    "(SELECT\n",
    "\te.name employer,\n",
    "\tcount(*) cnt\n",
    "FROM\n",
    "\tvacancies v\n",
    "LEFT JOIN employers e ON\n",
    "\te.id = v.employer_id\n",
    "GROUP BY\n",
    "\te.name\n",
    "ORDER BY\n",
    "\tcnt DESC\n",
    "LIMIT 1)\n",
    "\n",
    "UNION\n",
    "\n",
    "(SELECT\n",
    "\te.name employer,\n",
    "\tcount(*) cnt\n",
    "FROM\n",
    "\tvacancies v\n",
    "LEFT JOIN employers e ON\n",
    "\te.id = v.employer_id\n",
    "GROUP BY\n",
    "\te.name\n",
    "ORDER BY\n",
    "\tcnt DESC\n",
    "LIMIT 1 OFFSET 4)\n",
    "\n",
    "ORDER BY\n",
    "\tcnt DESC\n",
    "'''"
   ],
   "outputs": [],
   "execution_count": 21
  },
  {
   "cell_type": "code",
   "source": [
    "result = pd.read_sql_query(query, connection)\n",
    "print(f\"первое место по вакансиям: \"\n",
    "      f\"{result['employer'].iloc[0]}\")\n",
    "print(f\"пятое место по вакансиям: \"\n",
    "      f\"{result['employer'].iloc[1]}\")"
   ],
   "metadata": {
    "id": "64tOMkAxqkQk",
    "ExecuteTime": {
     "end_time": "2025-02-09T20:40:17.760144Z",
     "start_time": "2025-02-09T20:40:17.648838Z"
    }
   },
   "id": "64tOMkAxqkQk",
   "outputs": [
    {
     "name": "stdout",
     "output_type": "stream",
     "text": [
      "первое место по вакансиям: Яндекс\n",
      "пятое место по вакансиям: Газпром нефть\n"
     ]
    }
   ],
   "execution_count": 22
  },
  {
   "cell_type": "markdown",
   "id": "68377cfc-b378-43dc-ab7d-1195abf2c515",
   "metadata": {
    "id": "68377cfc-b378-43dc-ab7d-1195abf2c515"
   },
   "source": [
    "2. Напишите запрос, который для каждого региона выведет количество работодателей и вакансий в нём.\n",
    "Среди регионов, в которых нет вакансий, найдите тот, в котором наибольшее количество работодателей.\n"
   ]
  },
  {
   "cell_type": "code",
   "id": "dd7df27a-e3e8-412e-a21a-5d389b71e891",
   "metadata": {
    "id": "dd7df27a-e3e8-412e-a21a-5d389b71e891",
    "ExecuteTime": {
     "end_time": "2025-02-09T20:40:19.409877Z",
     "start_time": "2025-02-09T20:40:19.406405Z"
    }
   },
   "source": [
    "query = f'''\n",
    "SELECT\n",
    "\ta.name,\n",
    "\tCOUNT(e.id) cnt\n",
    "FROM\n",
    "\temployers e\n",
    "LEFT JOIN\n",
    "    areas a ON\n",
    "\ta.id = e.area\n",
    "LEFT JOIN\n",
    "    vacancies v ON\n",
    "\tv.area_id = a.id\n",
    "WHERE\n",
    "\tv.id IS NULL\n",
    "GROUP BY\n",
    "\ta.name\n",
    "ORDER BY\n",
    "\tcnt DESC\n",
    "\n",
    "'''"
   ],
   "outputs": [],
   "execution_count": 23
  },
  {
   "cell_type": "code",
   "source": [
    "result = pd.read_sql_query(query, connection)\n",
    "print(f\"Регион, где нет вакансий, но большее количеством работодателей: \"\n",
    "      f\"{result['name'].iloc[0]}\")"
   ],
   "metadata": {
    "id": "x1ikWbydrbf6",
    "ExecuteTime": {
     "end_time": "2025-02-09T20:40:25.404675Z",
     "start_time": "2025-02-09T20:40:21.112660Z"
    }
   },
   "id": "x1ikWbydrbf6",
   "outputs": [
    {
     "name": "stdout",
     "output_type": "stream",
     "text": [
      "Регион, где нет вакансий, но большее количеством работодателей: Россия\n"
     ]
    }
   ],
   "execution_count": 24
  },
  {
   "cell_type": "markdown",
   "id": "f2fe0acb-ab1a-4e15-9326-2560e22d73c1",
   "metadata": {
    "id": "f2fe0acb-ab1a-4e15-9326-2560e22d73c1"
   },
   "source": "3. Для каждого работодателя посчитайте количество регионов, в которых он публикует свои вакансии. Отсортируйте результат по убыванию количества. Выберите максимальное значение из получившегося списка.\n"
  },
  {
   "cell_type": "code",
   "id": "6271f8ad-bd2e-4196-ae4a-5b39c4c1010e",
   "metadata": {
    "id": "6271f8ad-bd2e-4196-ae4a-5b39c4c1010e",
    "ExecuteTime": {
     "end_time": "2025-02-09T20:40:27.023871Z",
     "start_time": "2025-02-09T20:40:27.021278Z"
    }
   },
   "source": [
    "query = f'''\n",
    "SELECT\n",
    "\temployer_id emp,\n",
    "\tcount(DISTINCT area_id) cnt\n",
    "FROM\n",
    "\tvacancies\n",
    "GROUP BY\n",
    "\temployer_id\n",
    "ORDER BY\n",
    "\tcnt DESC\n",
    "'''"
   ],
   "outputs": [],
   "execution_count": 25
  },
  {
   "cell_type": "code",
   "source": [
    "result = pd.read_sql_query(query, connection)\n",
    "print(f\"Количество регионов, в которых публикуется самый активный работодатель: \"\n",
    "      f\"{result['cnt'].iloc[0]}\")"
   ],
   "metadata": {
    "id": "1EIvX3HasH4F",
    "ExecuteTime": {
     "end_time": "2025-02-09T20:40:28.821416Z",
     "start_time": "2025-02-09T20:40:28.648269Z"
    }
   },
   "id": "1EIvX3HasH4F",
   "outputs": [
    {
     "name": "stdout",
     "output_type": "stream",
     "text": [
      "Количество регионов, в которых публикуется самый активный работодатель: 181\n"
     ]
    }
   ],
   "execution_count": 26
  },
  {
   "cell_type": "markdown",
   "id": "eab2206d-d95b-468b-8e5f-34381abf0ce7",
   "metadata": {
    "id": "eab2206d-d95b-468b-8e5f-34381abf0ce7"
   },
   "source": "4. Напишите запрос для подсчёта количества работодателей, у которых не указана сфера деятельности."
  },
  {
   "cell_type": "code",
   "id": "80defb23-bfb1-4a18-8be6-bf36aa7165d5",
   "metadata": {
    "id": "80defb23-bfb1-4a18-8be6-bf36aa7165d5",
    "ExecuteTime": {
     "end_time": "2025-02-09T20:40:30.713919Z",
     "start_time": "2025-02-09T20:40:30.710461Z"
    }
   },
   "source": [
    "query = f'''\n",
    "WITH no_info_about_industries AS (\n",
    "SELECT\n",
    "\te.id emp_id,\n",
    "\tcount(ei.industry_id) cnt\n",
    "FROM\n",
    "\temployers e\n",
    "LEFT JOIN employers_industries ei ON\n",
    "\te.id = ei.employer_id\n",
    "GROUP BY\n",
    "\temp_id\n",
    "HAVING\n",
    "\tcount(ei.industry_id) = 0\n",
    "ORDER BY\n",
    "\tcnt)\n",
    "\n",
    "SELECT\n",
    "\tcount(*) cnt\n",
    "FROM\n",
    "\tno_info_about_industries\n",
    "'''"
   ],
   "outputs": [],
   "execution_count": 27
  },
  {
   "cell_type": "code",
   "source": [
    "result = pd.read_sql_query(query, connection)\n",
    "print(f\"Количество работодателей, у которых не указана сфера деятельности: \"\n",
    "      f\"{result['cnt'].iloc[0]}\")"
   ],
   "metadata": {
    "id": "Dp_yCx6ysQSu",
    "ExecuteTime": {
     "end_time": "2025-02-09T20:40:32.577622Z",
     "start_time": "2025-02-09T20:40:32.525371Z"
    }
   },
   "id": "Dp_yCx6ysQSu",
   "outputs": [
    {
     "name": "stdout",
     "output_type": "stream",
     "text": [
      "Количество работодателей, у которых не указана сфера деятельности: 8419\n"
     ]
    }
   ],
   "execution_count": 28
  },
  {
   "cell_type": "markdown",
   "id": "0112af31-f6b0-4e3b-82ab-71296e752e5e",
   "metadata": {
    "id": "0112af31-f6b0-4e3b-82ab-71296e752e5e"
   },
   "source": [
    "5. Напишите запрос, чтобы узнать название компании, находящейся на третьем месте в алфавитном списке (по названию) компаний, у которых указано четыре сферы деятельности. "
   ]
  },
  {
   "cell_type": "code",
   "id": "973b0cfc-a972-470a-8b4a-68744ef220c4",
   "metadata": {
    "id": "973b0cfc-a972-470a-8b4a-68744ef220c4",
    "ExecuteTime": {
     "end_time": "2025-02-09T20:40:34.418193Z",
     "start_time": "2025-02-09T20:40:34.415053Z"
    }
   },
   "source": [
    "query = f'''\n",
    "SELECT\n",
    "\te.name emp_name,\n",
    "\tcount(ei.industry_id) cnt\n",
    "FROM\n",
    "\temployers e\n",
    "LEFT JOIN employers_industries ei ON\n",
    "\te.id = ei.employer_id\n",
    "GROUP BY\n",
    "\te.id\n",
    "HAVING\n",
    "\tcount(ei.industry_id) = 4\n",
    "ORDER BY\n",
    "\te.name\n",
    "LIMIT 1 OFFSET 2\n",
    "'''"
   ],
   "outputs": [],
   "execution_count": 29
  },
  {
   "cell_type": "code",
   "source": [
    "result = pd.read_sql_query(query, connection)\n",
    "print(f\"Компания, которая находится на третьем месте, среди компаний у которых указано 4 сферы деятельности: \"\n",
    "      f\"{result['emp_name'].iloc[0]}\")"
   ],
   "metadata": {
    "id": "xsPtpp8EsaED",
    "ExecuteTime": {
     "end_time": "2025-02-09T20:40:35.929296Z",
     "start_time": "2025-02-09T20:40:35.870252Z"
    }
   },
   "id": "xsPtpp8EsaED",
   "outputs": [
    {
     "name": "stdout",
     "output_type": "stream",
     "text": [
      "Компания, которая находится на третьем месте, среди компаний у которых указано 4 сферы деятельности: 2ГИС\n"
     ]
    }
   ],
   "execution_count": 30
  },
  {
   "cell_type": "markdown",
   "id": "3bfcfdaf-755d-4d2b-8ed8-326201dc07ab",
   "metadata": {
    "id": "3bfcfdaf-755d-4d2b-8ed8-326201dc07ab"
   },
   "source": [
    "6. С помощью запроса выясните, у какого количества работодателей в качестве сферы деятельности указана Разработка программного обеспечения.\n"
   ]
  },
  {
   "cell_type": "code",
   "id": "ad3f270f-2991-47eb-929b-e8f88a55b0d1",
   "metadata": {
    "id": "ad3f270f-2991-47eb-929b-e8f88a55b0d1",
    "ExecuteTime": {
     "end_time": "2025-02-09T20:40:37.660767Z",
     "start_time": "2025-02-09T20:40:37.654962Z"
    }
   },
   "source": [
    "query = f'''\n",
    "SELECT\n",
    "\tcount(*) cnt\n",
    "FROM\n",
    "\temployers e\n",
    "LEFT JOIN employers_industries ei ON\n",
    "\te.id = ei.employer_id\n",
    "WHERE\n",
    "\tei.industry_id = (\n",
    "\tSELECT\n",
    "\t\tid\n",
    "\tFROM\n",
    "\t\tindustries\n",
    "\tWHERE\n",
    "\t\tname = 'Разработка программного обеспечения')\n",
    "'''"
   ],
   "outputs": [],
   "execution_count": 31
  },
  {
   "cell_type": "code",
   "source": [
    "result = pd.read_sql_query(query, connection)\n",
    "print(f\"Количество компаний со сферой деятельности 'Разработка программного обеспечения': \"\n",
    "      f\"{result['cnt'].iloc[0]}\")"
   ],
   "metadata": {
    "id": "H72qxWM0shPR",
    "ExecuteTime": {
     "end_time": "2025-02-09T20:40:39.236146Z",
     "start_time": "2025-02-09T20:40:39.202101Z"
    }
   },
   "id": "H72qxWM0shPR",
   "outputs": [
    {
     "name": "stdout",
     "output_type": "stream",
     "text": [
      "Количество компаний со сферой деятельности 'Разработка программного обеспечения': 3553\n"
     ]
    }
   ],
   "execution_count": 32
  },
  {
   "cell_type": "markdown",
   "id": "7b02bb86-0546-40fb-94a4-242f050a5c57",
   "metadata": {
    "id": "7b02bb86-0546-40fb-94a4-242f050a5c57"
   },
   "source": [
    "7. Для компании «Яндекс» выведите список регионов-миллионников, в которых представлены вакансии компании, вместе с количеством вакансий в этих регионах. Также добавьте строку Total с общим количеством вакансий компании. Результат отсортируйте по возрастанию количества.\n",
    "\n",
    "Список городов-милионников надо взять [отсюда](https://ru.wikipedia.org/wiki/%D0%93%D0%BE%D1%80%D0%BE%D0%B4%D0%B0-%D0%BC%D0%B8%D0%BB%D0%BB%D0%B8%D0%BE%D0%BD%D0%B5%D1%80%D1%8B_%D0%A0%D0%BE%D1%81%D1%81%D0%B8%D0%B8). \n",
    "\n",
    "Если возникнут трудности с этим задание посмотрите материалы модуля  PYTHON-17. Как получать данные из веб-источников и API. "
   ]
  },
  {
   "cell_type": "code",
   "source": [
    "url = 'https://ru.wikipedia.org/wiki/%D0%93%D0%BE%D1%80%D0%BE%D0%B4%D0%B0-%D0%BC%D0%B8%D0%BB%D0%BB%D0%B8%D0%BE%D0%BD%D0%B5%D1%80%D1%8B_%D0%A0%D0%BE%D1%81%D1%81%D0%B8%D0%B8'\n",
    "wiki_page = requests.get(url)\n",
    "if wiki_page.status_code == 200:\n",
    "    soup = BeautifulSoup(wiki_page.text, \"html.parser\") # получаем в нужном формате для разбора страницу\n",
    "    # таблицу можно найти по классам, которые она использует\n",
    "    table_city = soup.find(\"table\",\n",
    "                           class_=[\"standard\",  \"sortable\",  \"jquery-tablesorter\"])\n",
    "    cells = [] # в эту переменную сохраним значения ячеек из таблицы\n",
    "    for row in table_city.find_all(\"tr\")[1:]: # пропускам заголовок\n",
    "        cells.append([td.text.strip() for td in row.find_all(\"td\")])\n",
    "\n",
    "    cities = tuple(each[1] for each in cells) # во втором столбце содержится название города-миллионника. Сохраним в виде кортежа"
   ],
   "metadata": {
    "id": "ZdfrL6gIs1Pn",
    "ExecuteTime": {
     "end_time": "2025-02-09T20:40:41.830617Z",
     "start_time": "2025-02-09T20:40:41.155268Z"
    }
   },
   "id": "ZdfrL6gIs1Pn",
   "outputs": [],
   "execution_count": 33
  },
  {
   "cell_type": "code",
   "id": "5a0e32a4-e68a-4365-8a39-2fe24c542c36",
   "metadata": {
    "id": "5a0e32a4-e68a-4365-8a39-2fe24c542c36",
    "ExecuteTime": {
     "end_time": "2025-02-09T20:40:42.902190Z",
     "start_time": "2025-02-09T20:40:42.899677Z"
    }
   },
   "source": [
    "query = f'''\n",
    "SELECT\n",
    "\te.name emp,\n",
    "\ta.name city,\n",
    "\tcount(*) cnt\n",
    "FROM\n",
    "\tvacancies v\n",
    "LEFT JOIN employers e ON\n",
    "\tv.employer_id = e.id\n",
    "LEFT JOIN areas a ON\n",
    "\ta.id = v.area_id\n",
    "WHERE\n",
    "\te.name = 'Яндекс'\n",
    "\tAND a.name IN {cities}\n",
    "GROUP BY\n",
    "\te.name,\n",
    "\ta.name\n",
    "\n",
    "UNION\n",
    "\n",
    "SELECT\n",
    "\t'Яндекс',\n",
    "\t'Total',\n",
    "\tcount(*) cnt\n",
    "FROM\n",
    "\tvacancies v\n",
    "LEFT JOIN employers e ON\n",
    "\tv.employer_id = e.id\n",
    "LEFT JOIN areas a ON\n",
    "\ta.id = v.area_id\n",
    "WHERE\n",
    "\te.name = 'Яндекс'\n",
    "\tAND a.name IN {cities}\n",
    "\n",
    "ORDER BY 3\n",
    "'''"
   ],
   "outputs": [],
   "execution_count": 34
  },
  {
   "cell_type": "code",
   "source": [
    "result = pd.read_sql_query(query, connection)\n",
    "print(f\"Количество строк в итоговой таблице: \"\n",
    "      f\"{result.shape[0]}\")\n",
    "print(f\"Результат в строке Total: \"\n",
    "      f\"{result['cnt'].iloc[result.shape[0] - 1]}\")"
   ],
   "metadata": {
    "id": "ttPhiO1rsvPq",
    "ExecuteTime": {
     "end_time": "2025-02-09T20:40:44.789101Z",
     "start_time": "2025-02-09T20:40:44.672626Z"
    }
   },
   "id": "ttPhiO1rsvPq",
   "outputs": [
    {
     "name": "stdout",
     "output_type": "stream",
     "text": [
      "Количество строк в итоговой таблице: 17\n",
      "Результат в строке Total: 485\n"
     ]
    }
   ],
   "execution_count": 35
  },
  {
   "cell_type": "markdown",
   "id": "04966e40-3bc3-4dc8-9ba2-e80580ce3abc",
   "metadata": {
    "id": "04966e40-3bc3-4dc8-9ba2-e80580ce3abc"
   },
   "source": [
    "***"
   ]
  },
  {
   "metadata": {},
   "cell_type": "markdown",
   "source": [
    "#### Выводы по детальному анализу работодателей\n",
    "- Огромное количество вакансий от компании Яндекс, которая ко количеству размещаемых данных значительно обходит другие компании\n",
    "- Причем бОльшая часть их вакансий размещена не в городах-миллионниках\n",
    "- При этом у нас в базе всего не так много компаний с указанной сферой деятельности \"Разработка программного обеспечения\""
   ],
   "id": "9fff0e52ba9184bf"
  },
  {
   "cell_type": "markdown",
   "id": "b1ef156a-efcb-49ce-bb23-90763e7f35b2",
   "metadata": {
    "tags": [],
    "id": "b1ef156a-efcb-49ce-bb23-90763e7f35b2"
   },
   "source": [
    "# Юнит 6. Предметный анализ"
   ]
  },
  {
   "cell_type": "markdown",
   "id": "b9cd50a0-992d-4988-8463-2b2b1c4629b4",
   "metadata": {
    "id": "b9cd50a0-992d-4988-8463-2b2b1c4629b4"
   },
   "source": [
    "1. Сколько вакансий имеет отношение к данным?\n",
    "\n",
    "Считаем, что вакансия имеет отношение к данным, если в её названии содержатся слова 'data' или 'данн'.\n",
    "\n",
    "*Подсказка: Обратите внимание, что названия вакансий могут быть написаны в любом регистре.* \n"
   ]
  },
  {
   "cell_type": "code",
   "id": "54ab0e50-c0f1-47cc-a54b-bc5c8bc363f9",
   "metadata": {
    "id": "54ab0e50-c0f1-47cc-a54b-bc5c8bc363f9",
    "ExecuteTime": {
     "end_time": "2025-02-09T20:40:47.575060Z",
     "start_time": "2025-02-09T20:40:47.571133Z"
    }
   },
   "source": [
    "query = f'''\n",
    "SELECT\n",
    "\tcount(*) cnt\n",
    "FROM\n",
    "\tvacancies v\n",
    "WHERE\n",
    "\tLOWER(v.name) LIKE '%data%'\n",
    "\tOR LOWER(v.name) LIKE '%данн%'\n",
    "'''"
   ],
   "outputs": [],
   "execution_count": 36
  },
  {
   "cell_type": "code",
   "source": [
    "result = pd.read_sql_query(query, connection)\n",
    "print(f\"Количество вакансий, которые имеют отношение к данным: {result[\"cnt\"].iloc[0]}\")"
   ],
   "metadata": {
    "id": "9F1meAqsuUjd",
    "ExecuteTime": {
     "end_time": "2025-02-09T20:40:49.373224Z",
     "start_time": "2025-02-09T20:40:49.255947Z"
    }
   },
   "id": "9F1meAqsuUjd",
   "outputs": [
    {
     "name": "stdout",
     "output_type": "stream",
     "text": [
      "Количество вакансий, которые имеют отношение к данным: 1771\n"
     ]
    }
   ],
   "execution_count": 37
  },
  {
   "cell_type": "markdown",
   "id": "4dea20cb-a36b-474a-a0b9-e08e8e3857a5",
   "metadata": {
    "id": "4dea20cb-a36b-474a-a0b9-e08e8e3857a5"
   },
   "source": [
    "2. Сколько есть подходящих вакансий для начинающего дата-сайентиста? \n",
    "Будем считать вакансиями для дата-сайентистов такие, в названии которых есть хотя бы одно из следующих сочетаний:\n",
    "* 'data scientist'\n",
    "* 'data science'\n",
    "* 'исследователь данных'\n",
    "* 'ML' (здесь не нужно брать вакансии по HTML)\n",
    "* 'machine learning'\n",
    "* 'машинн%обучен%'\n",
    "\n",
    "** В следующих заданиях мы продолжим работать с вакансиями по этому условию.*\n",
    "\n",
    "Считаем вакансиями для специалистов уровня Junior следующие:\n",
    "* в названии есть слово 'junior' *или*\n",
    "* требуемый опыт — Нет опыта *или*\n",
    "* тип трудоустройства — Стажировка.\n",
    " "
   ]
  },
  {
   "cell_type": "code",
   "id": "9c61b3c0-bb66-46c9-ae1e-81d3f5752b4a",
   "metadata": {
    "id": "9c61b3c0-bb66-46c9-ae1e-81d3f5752b4a",
    "ExecuteTime": {
     "end_time": "2025-02-09T20:40:50.981623Z",
     "start_time": "2025-02-09T20:40:50.977592Z"
    }
   },
   "source": [
    "query = f'''\n",
    "SELECT\n",
    "\tcount(*) cnt\n",
    "FROM\n",
    "\tvacancies\n",
    "WHERE\n",
    "\t((LOWER(name) LIKE '%data scientist%'\n",
    "\t\tOR LOWER(name) LIKE '%data science%'\n",
    "\t\t\tOR LOWER(name) LIKE '%исследователь данных%'\n",
    "\t\t\t\tOR LOWER(name) LIKE '%machine learning%'\n",
    "\t\t\t\t\tOR LOWER(name) LIKE '%машинн%обучен%'\n",
    "\t\t\t\t\t\tOR name LIKE '%ML%')\n",
    "\tAND LOWER(name) NOT LIKE '%html%')\n",
    "\tAND(LOWER(name) LIKE '%junior%'\n",
    "\t\tOR experience = 'Нет опыта'\n",
    "\t\tOR schedule = 'Стажировка')\n",
    "'''"
   ],
   "outputs": [],
   "execution_count": 38
  },
  {
   "cell_type": "code",
   "source": [
    "result = pd.read_sql_query(query, connection)\n",
    "print(f\"Количество вакансий, которые подходят для начинающего дата-сайентиста: {result[\"cnt\"].iloc[0]}\")"
   ],
   "metadata": {
    "id": "ZNM-LLYuu1dj",
    "ExecuteTime": {
     "end_time": "2025-02-09T20:40:52.586628Z",
     "start_time": "2025-02-09T20:40:52.455360Z"
    }
   },
   "id": "ZNM-LLYuu1dj",
   "outputs": [
    {
     "name": "stdout",
     "output_type": "stream",
     "text": [
      "Количество вакансий, которые подходят для начинающего дата-сайентиста: 51\n"
     ]
    }
   ],
   "execution_count": 39
  },
  {
   "cell_type": "markdown",
   "id": "eedceb80-c5ca-480e-b27a-278dfb8b4438",
   "metadata": {
    "id": "eedceb80-c5ca-480e-b27a-278dfb8b4438"
   },
   "source": [
    "3. Сколько есть вакансий для DS, в которых в качестве ключевого навыка указан SQL или postgres?\n",
    "\n",
    "** Критерии для отнесения вакансии к DS указаны в предыдущем задании.*"
   ]
  },
  {
   "cell_type": "code",
   "id": "69621713-0cc5-4f1b-a1d7-bb144fa6148c",
   "metadata": {
    "id": "69621713-0cc5-4f1b-a1d7-bb144fa6148c",
    "ExecuteTime": {
     "end_time": "2025-02-09T20:40:54.588120Z",
     "start_time": "2025-02-09T20:40:54.584806Z"
    }
   },
   "source": [
    "query = f'''\n",
    "SELECT\n",
    "\tcount(*) cnt\n",
    "FROM\n",
    "\tvacancies\n",
    "WHERE\n",
    "\t(name ILIKE '%data scientist%'\n",
    "\t\tOR name ILIKE '%data science%'\n",
    "\t\tOR name ILIKE '%исследователь данных%'\n",
    "\t\tOR name ILIKE '%ml%'\n",
    "\t\tAND name NOT LIKE '%HTML%'\n",
    "\t\tAND name NOT LIKE '%QML%'\n",
    "\t\tOR name ILIKE '%machine learning%'\n",
    "\t\tOR name ILIKE '%машинн%обучен%')\n",
    "\tAND (key_skills ILIKE '%sql%'\n",
    "\t\tOR key_skills ILIKE '%postgres%')\n",
    "'''"
   ],
   "outputs": [],
   "execution_count": 40
  },
  {
   "cell_type": "code",
   "source": [
    "result = pd.read_sql_query(query, connection)\n",
    "print(f\"Количество вакансий, с ключевым навыком SQL или Postgres: {result[\"cnt\"].iloc[0]}\")"
   ],
   "metadata": {
    "id": "alA8WEAAvGdf",
    "ExecuteTime": {
     "end_time": "2025-02-09T20:40:56.091592Z",
     "start_time": "2025-02-09T20:40:55.842069Z"
    }
   },
   "id": "alA8WEAAvGdf",
   "outputs": [
    {
     "name": "stdout",
     "output_type": "stream",
     "text": [
      "Количество вакансий, с ключевым навыком SQL или Postgres: 229\n"
     ]
    }
   ],
   "execution_count": 41
  },
  {
   "cell_type": "markdown",
   "id": "1be1e9c6-37cf-4a5f-bfeb-04cab799dc80",
   "metadata": {
    "id": "1be1e9c6-37cf-4a5f-bfeb-04cab799dc80"
   },
   "source": [
    "4. Проверьте, насколько популярен Python в требованиях работодателей к DS.Для этого вычислите количество вакансий, в которых в качестве ключевого навыка указан Python.\n",
    "\n",
    "** Это можно сделать помощью запроса, аналогичного предыдущему.*"
   ]
  },
  {
   "cell_type": "code",
   "id": "0036a355-9ccf-4564-8b01-73d8194297e7",
   "metadata": {
    "id": "0036a355-9ccf-4564-8b01-73d8194297e7",
    "ExecuteTime": {
     "end_time": "2025-02-09T20:40:58.293392Z",
     "start_time": "2025-02-09T20:40:58.290469Z"
    }
   },
   "source": [
    "query = f'''\n",
    "SELECT\n",
    "\tcount(*) cnt\n",
    "FROM\n",
    "\tvacancies\n",
    "WHERE\n",
    "\t(name ILIKE '%data scientist%'\n",
    "\t\tOR name ILIKE '%data science%'\n",
    "\t\tOR name ILIKE '%исследователь данных%'\n",
    "\t\tOR name ILIKE '%ml%'\n",
    "\t\tAND name NOT LIKE '%HTML%'\n",
    "\t\tAND name NOT LIKE '%QML%'\n",
    "\t\tOR name ILIKE '%machine learning%'\n",
    "\t\tOR name ILIKE '%машинн%обучен%')\n",
    "\tAND key_skills ILIKE '%python%'\n",
    "'''"
   ],
   "outputs": [],
   "execution_count": 42
  },
  {
   "cell_type": "code",
   "source": [
    "result = pd.read_sql_query(query, connection)\n",
    "print(f\"Количество вакансий, с ключевым навыком python: {result[\"cnt\"].iloc[0]}\")"
   ],
   "metadata": {
    "id": "1i-5WyucvQ6v",
    "ExecuteTime": {
     "end_time": "2025-02-09T20:40:59.530465Z",
     "start_time": "2025-02-09T20:40:59.390340Z"
    }
   },
   "id": "1i-5WyucvQ6v",
   "outputs": [
    {
     "name": "stdout",
     "output_type": "stream",
     "text": [
      "Количество вакансий, с ключевым навыком python: 357\n"
     ]
    }
   ],
   "execution_count": 43
  },
  {
   "cell_type": "markdown",
   "id": "ec3c8db7-fa21-4a41-a994-1af63742a642",
   "metadata": {
    "id": "ec3c8db7-fa21-4a41-a994-1af63742a642"
   },
   "source": [
    "5. Сколько ключевых навыков в среднем указывают в вакансиях для DS?\n",
    "Ответ округлите до двух знаков после точки-разделителя."
   ]
  },
  {
   "cell_type": "code",
   "id": "949132bc-d5b6-4611-8218-0b9a504d74f4",
   "metadata": {
    "id": "949132bc-d5b6-4611-8218-0b9a504d74f4",
    "ExecuteTime": {
     "end_time": "2025-02-09T20:41:01.209696Z",
     "start_time": "2025-02-09T20:41:01.206644Z"
    }
   },
   "source": [
    "query = f'''\n",
    "SELECT\n",
    "\tROUND(AVG(LENGTH(key_skills) - LENGTH(REPLACE(key_skills, CHR(9), '')) + 1),\n",
    "\t2) avg\n",
    "FROM\n",
    "\tvacancies\n",
    "WHERE\n",
    "\t(name ILIKE '%data scientist%'\n",
    "\t\tOR name ILIKE '%data science%'\n",
    "\t\tOR name ILIKE '%исследователь данных%'\n",
    "\t\tOR name LIKE '%ML%'\n",
    "\t\tAND name NOT ILIKE '%html%'\n",
    "\t\tOR name ILIKE '%machine learning%'\n",
    "\t\tOR name ILIKE '%машинн%обучен%')\n",
    "\tAND key_skills IS NOT NULL\n",
    "'''"
   ],
   "outputs": [],
   "execution_count": 44
  },
  {
   "cell_type": "code",
   "source": [
    "result = pd.read_sql_query(query, connection)\n",
    "print(f\"Среднее количество ключевых навыков: {result[\"avg\"].iloc[0]}\")"
   ],
   "metadata": {
    "id": "a3V24Tvmviqk",
    "ExecuteTime": {
     "end_time": "2025-02-09T20:41:03.365155Z",
     "start_time": "2025-02-09T20:41:02.832563Z"
    }
   },
   "id": "a3V24Tvmviqk",
   "outputs": [
    {
     "name": "stdout",
     "output_type": "stream",
     "text": [
      "Среднее количество ключевых навыков: 6.41\n"
     ]
    }
   ],
   "execution_count": 45
  },
  {
   "cell_type": "markdown",
   "id": "1041c17a-ca8f-4543-a0ca-32778914fb00",
   "metadata": {
    "id": "1041c17a-ca8f-4543-a0ca-32778914fb00"
   },
   "source": [
    "6. Напишите запрос, позволяющий вычислить, какую зарплату для DS в **среднем** указывают для каждого типа требуемого опыта (уникальное значение из поля *experience*). \n",
    "\n",
    "При решении задачи примите во внимание следующее:\n",
    "1. Рассматриваем только вакансии, у которых заполнено хотя бы одно из двух полей с зарплатой.\n",
    "2. Если заполнены оба поля с зарплатой, то считаем зарплату по каждой вакансии как сумму двух полей, делённую на 2. Если заполнено только одно из полей, то его и считаем зарплатой по вакансии.\n",
    "3. Если в расчётах участвует null, в результате он тоже даст null (посмотрите, что возвращает запрос select 1 + null). Чтобы избежать этой ситуацию, мы воспользуемся функцией [coalesce](https://postgrespro.ru/docs/postgresql/9.5/functions-conditional#functions-coalesce-nvl-ifnull), которая заменит null на значение, которое мы передадим. Например, посмотрите, что возвращает запрос `select 1 + coalesce(null, 0)`\n",
    "\n",
    "Выясните, на какую зарплату в среднем может рассчитывать дата-сайентист с опытом работы от 3 до 6 лет. Результат округлите до целого числа. "
   ]
  },
  {
   "cell_type": "code",
   "id": "6a743d39-5204-48d3-8271-b9f88e68d40e",
   "metadata": {
    "id": "6a743d39-5204-48d3-8271-b9f88e68d40e",
    "ExecuteTime": {
     "end_time": "2025-02-09T20:41:05.208837Z",
     "start_time": "2025-02-09T20:41:05.206436Z"
    }
   },
   "source": [
    "query = f'''\n",
    "SELECT\n",
    "\texperience exp,\n",
    "\tROUND(AVG(COALESCE((salary_from + salary_to) / 2, salary_from, salary_to)),\n",
    "\t0) zp\n",
    "FROM\n",
    "\tvacancies\n",
    "WHERE\n",
    "\t(name ILIKE '%data scientist%'\n",
    "\t\tOR name ILIKE '%data science%'\n",
    "\t\tOR name ILIKE '%исследователь данных%'\n",
    "\t\tOR name LIKE '%ML%'\n",
    "\t\tAND name NOT ILIKE '%html%'\n",
    "\t\tOR name ILIKE '%machine learning%'\n",
    "\t\tOR name ILIKE '%машинн%обучен%')\n",
    "GROUP BY experience\n",
    "'''"
   ],
   "outputs": [],
   "execution_count": 46
  },
  {
   "cell_type": "code",
   "source": [
    "result = pd.read_sql_query(query, connection)\n",
    "print(f\"Средняя зарплата для дата-саентистов с опытом от 3 до 6 лет: {result[result[\"exp\"] == 'От 3 до 6 лет']['zp'].iloc[0]}\")"
   ],
   "metadata": {
    "id": "aRIJ0mZEwU1_",
    "ExecuteTime": {
     "end_time": "2025-02-09T20:41:07.357306Z",
     "start_time": "2025-02-09T20:41:07.041039Z"
    }
   },
   "id": "aRIJ0mZEwU1_",
   "outputs": [
    {
     "name": "stdout",
     "output_type": "stream",
     "text": [
      "Средняя зарплата для дата-саентистов с опытом от 3 до 6 лет: 243115.0\n"
     ]
    }
   ],
   "execution_count": 47
  },
  {
   "cell_type": "markdown",
   "id": "6a7892b4-4113-4746-adce-18aa2844f18e",
   "metadata": {
    "id": "6a7892b4-4113-4746-adce-18aa2844f18e"
   },
   "source": [
    "***"
   ]
  },
  {
   "metadata": {},
   "cell_type": "markdown",
   "source": [
    "#### Выводы по детальному анализу вакансий\n",
    "- Представлено очень малое количество вакансий для начинающих дата-сайентистов\n",
    "- Среди 1771 вакансий связанных с данными только 229 требует знания SQL как ключевого навыка\n",
    "- В целом, профессия Data Science подразумевает знания 6-7 ключевых навыков"
   ],
   "id": "62fa812f3c167a9b"
  },
  {
   "cell_type": "markdown",
   "source": [
    "# Общий вывод по проекту"
   ],
   "metadata": {
    "id": "c0ED6fh7wiBT"
   },
   "id": "c0ED6fh7wiBT"
  },
  {
   "metadata": {},
   "cell_type": "markdown",
   "source": [
    "- Представлено большое количество по профессии \"Системный администратор\" и по направлению 1С\n",
    "- Традиционно, большее количество вакансий представлено в Москве и Санкт-Петербурге\n",
    "- У нас есть работодатели с совпадающими именами. Самые популярные \"Новые Технологии\" и \"Перспектива\"\n",
    "\n",
    "В дальнейшем можно исследовать количество ИТ-вакансий в компаниях, где профиль деятельности не ИТ\n",
    "\n"
   ],
   "id": "c61fcac5eaf87f03"
  }
 ],
 "metadata": {
  "kernelspec": {
   "display_name": "Python 3 (ipykernel)",
   "language": "python",
   "name": "python3"
  },
  "language_info": {
   "codemirror_mode": {
    "name": "ipython",
    "version": 3
   },
   "file_extension": ".py",
   "mimetype": "text/x-python",
   "name": "python",
   "nbconvert_exporter": "python",
   "pygments_lexer": "ipython3",
   "version": "3.9.7"
  },
  "colab": {
   "provenance": [],
   "collapsed_sections": [
    "8d62a9f3-f64e-4fe7-bdac-c4dffa16155e"
   ]
  }
 },
 "nbformat": 4,
 "nbformat_minor": 5
}
